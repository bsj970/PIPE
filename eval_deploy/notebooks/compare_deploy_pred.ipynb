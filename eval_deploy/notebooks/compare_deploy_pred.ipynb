{
 "cells": [
  {
   "attachments": {},
   "cell_type": "markdown",
   "metadata": {},
   "source": [
    "## Benchmark different map predictions with simple robot observation in-the-loop\n",
    "* can be given a trajectory, or (later on) with exploration using predicted map in loop"
   ]
  },
  {
   "cell_type": "code",
   "execution_count": 40,
   "metadata": {},
   "outputs": [
    {
     "name": "stdout",
     "output_type": "stream",
     "text": [
      "The autoreload extension is already loaded. To reload it, use:\n",
      "  %reload_ext autoreload\n"
     ]
    }
   ],
   "source": [
    "# Third party imports\n",
    "import torch\n",
    "import os \n",
    "from torchvision.transforms import ToTensor, Resize, Compose\n",
    "import PIL\n",
    "from matplotlib import pyplot as plt\n",
    "from torchvision.utils import make_grid\n",
    "import matplotlib.patches as patches\n",
    "from torchmetrics.classification import JaccardIndex\n",
    "import numpy as np\n",
    "from tqdm import tqdm\n",
    "from scipy.ndimage.morphology import distance_transform_cdt\n",
    "\n",
    "# Custom imports\n",
    "import sys\n",
    "sys.path.append('../../')\n",
    "# from gen_building_utils import * \n",
    "from options.deploy_options import *\n",
    "from models.predictors import get_predictor_from_options\n",
    "from eval_deploy import deploy_utils as dutils\n",
    "from eval_deploy import viz_utils as vutils\n",
    "from eval_deploy import glocal_utils as glocal\n",
    "from data_factory import gen_building_utils \n",
    "from data_factory import simple_mask_utils as smu\n",
    "\n",
    "# refresh jupyter modules\n",
    "%load_ext autoreload\n",
    "%autoreload 2"
   ]
  },
  {
   "cell_type": "code",
   "execution_count": 3,
   "metadata": {},
   "outputs": [],
   "source": [
    "## Problem Inputs \n",
    "ensemble_folder_name = 'sc_map_pred_ensemble1' # Path to ensemble folder, in weights folder\n",
    "map_configs = {\n",
    "    'min_start_end_dist': 50,\n",
    "    'collect_interval_m': 5,\n",
    "    'laser_range': 50,\n",
    "    'num_laser': 500,\n",
    "    'num_rand_traj_per_map':1,\n",
    "    'percent_test': 0.2,\n",
    "    \"local_map_size\": 30, # TODO: add multiplier \n",
    "}\n"
   ]
  },
  {
   "attachments": {},
   "cell_type": "markdown",
   "metadata": {},
   "source": [
    "## Intialize deploy variables given main variables\n"
   ]
  },
  {
   "cell_type": "code",
   "execution_count": 4,
   "metadata": {},
   "outputs": [
    {
     "name": "stdout",
     "output_type": "stream",
     "text": [
      "Model 0: loading checkpoint /home/cherie/research/hmap/map_prediction_toolbox/weights/sc_map_pred_ensemble1/sc_map_pred_v1_0/checkpoints/2023_08_01-09_13_05.pt\n",
      "Model 1: loading checkpoint /home/cherie/research/hmap/map_prediction_toolbox/weights/sc_map_pred_ensemble1/sc_map_pred_v1_1/checkpoints/2023_08_01-09_37_10.pt\n"
     ]
    }
   ],
   "source": [
    "\n",
    "# Initialize options\n",
    "cmd_line_args_dict = ['--name', 'deploy']\n",
    "device = torch.device(\"cuda:0\" if torch.cuda.is_available() else \"cpu\")\n",
    "\n",
    "os.environ['L2M_root_path'] = '/home/cherie/research/hmap/map_prediction_toolbox/' # change for different computer\n",
    "options = DeployOptions().parse_args(cmd_line_args_dict)\n",
    "\n",
    "# Initialize model ensembles # TODO: make into function\n",
    "ensemble_dir = os.path.join(options.root_path, 'weights', ensemble_folder_name)\n",
    "assert os.path.exists(ensemble_dir), \"Ensemble dir does not exist\"\n",
    "ensemble_exp = os.listdir(ensemble_dir)\n",
    "ensemble_exp.sort()\n",
    "models_dict = {}\n",
    "ensemble_size = len(ensemble_exp)\n",
    "for n in range(ensemble_size):\n",
    "    models_dict[n] = {'predictor_model': get_predictor_from_options(options)}\n",
    "    models_dict[n] = {k:v.to(device) for k,v in models_dict[n].items()}\n",
    "    models_dict[n]['predictor_model'] = torch.nn.DataParallel(models_dict[n]['predictor_model'])\n",
    "    checkpoint_dir = ensemble_dir + \"/\" + ensemble_exp[n]\n",
    "    latest_checkpoint = dutils.get_latest_model(save_dir=checkpoint_dir)\n",
    "    models_dict[n] = dutils.load_model(models=models_dict[n], checkpoint_file=latest_checkpoint)\n",
    "    models_dict[n][\"predictor_model\"].eval()\n",
    "    print(\"Model {}: loading checkpoint {}\".format(n, latest_checkpoint))\n",
    "\n",
    "\n",
    "\n"
   ]
  },
  {
   "attachments": {},
   "cell_type": "markdown",
   "metadata": {},
   "source": [
    "## Make random map and trajectory, then get local observations\n",
    "* should be similar to gen_building_mask\n",
    "* Observation is local map mask "
   ]
  },
  {
   "cell_type": "code",
   "execution_count": 5,
   "metadata": {},
   "outputs": [
    {
     "data": {
      "image/png": "[encoded data removed]",
      "text/plain": [
       "<Figure size 432x288 with 1 Axes>"
      ]
     },
     "metadata": {
      "needs_background": "light"
     },
     "output_type": "display_data"
    },
    {
     "name": "stdout",
     "output_type": "stream",
     "text": [
      "[0. 1.]\n",
      "start: (21, 6), end: (91, 18)\n",
      "Map shape:  (600, 300)\n",
      "Mask list shape:  (600, 300)\n"
     ]
    }
   ],
   "source": [
    "# Generate a global ground-truth occupancy grid \n",
    "building_occ_map = gen_building_utils.make_building_occ_map()\n",
    "building_occ_map = smu.convert_012_labels_to_maskutils_labels(building_occ_map)\n",
    "\n",
    "# Randomize if transpose \n",
    "\n",
    "if np.random.rand() > 0.5:\n",
    "    building_occ_map = building_occ_map.T\n",
    "# \n",
    "\n",
    "plt.imshow(building_occ_map)\n",
    "plt.title(\"Global map\")\n",
    "plt.show()\n",
    "\n",
    "# Get list of local masks given a random trajectory\n",
    "# TODO: set it to take in a trajectory instead \n",
    "map, mask_list, local_mask_list, local_gt_list, pose_list = smu.make_masklist_with_rand_traj_in_map(building_occ_map, map_configs, show_viz=False)\n",
    "\n",
    "# Make everything 5 times bigge\n",
    "multiplier = 5\n",
    "map = dutils.make_map_larger(map, multiplier)\n",
    "mask_list = [dutils.make_map_larger(map, multiplier) for map in mask_list]\n",
    "local_mask_list = [dutils.make_map_larger(map, multiplier) for map in local_mask_list]\n",
    "local_gt_list = [dutils.make_map_larger(map, multiplier) for map in local_gt_list]\n",
    "pose_list = pose_list * multiplier\n",
    "\n",
    "\n",
    "print(\"Map shape: \", map.shape)\n",
    "print(\"Mask list shape: \", mask_list[0].shape)\n"
   ]
  },
  {
   "attachments": {},
   "cell_type": "markdown",
   "metadata": {},
   "source": [
    "## Benchmark different prediction strategy with robot in loop \n",
    "* Given global ground truth map and trajectory above, we measure map error for different map prediction strategy\n",
    "\n",
    "Strategies:\n",
    "* No Map Prediction\n",
    "* Local Prediction\n",
    "* GLocal (Naive): Don't propagate map\n",
    "* GLocal (Propagation)\n",
    "\n",
    "Psuedocode:\n",
    "```\n",
    "* For each point in trajectory, we want to mock the prediction process\n",
    "    * get current observed map\n",
    "    * get predicted map (depends on strategy)\n",
    "    * if needed, get indices of local predicted map in global map\n",
    "    * update global map with local map\n",
    "    * visualize global predicted map \n",
    "```"
   ]
  },
  {
   "cell_type": "markdown",
   "metadata": {},
   "source": []
  },
  {
   "cell_type": "code",
   "execution_count": 62,
   "metadata": {},
   "outputs": [
    {
     "name": "stderr",
     "output_type": "stream",
     "text": [
      "/home/cherie/mambaforge/envs/map_pred/lib/python3.6/site-packages/torchmetrics/utilities/prints.py:36: UserWarning: Metric `SSIM` will save all targets and predictions in buffer. For large datasets this may lead to large memory footprint.\n",
      "  warnings.warn(*args, **kwargs)\n",
      "  0%|          | 0/20 [00:00<?, ?it/s]"
     ]
    },
    {
     "name": "stdout",
     "output_type": "stream",
     "text": [
      "global_pred_onehot_tensor_list.shape: torch.Size([2, 3, 600, 300])\n",
      "global_pred_propagate_onehot_tensor_rollouts.shape:  torch.Size([2, 3, 600, 300])\n",
      "i:  0\n"
     ]
    },
    {
     "name": "stderr",
     "output_type": "stream",
     "text": [
      "  5%|▌         | 1/20 [00:01<00:34,  1.79s/it]"
     ]
    },
    {
     "name": "stdout",
     "output_type": "stream",
     "text": [
      "global_pred_onehot_tensor_list.shape: torch.Size([2, 3, 600, 300])\n",
      "global_pred_propagate_onehot_tensor_rollouts.shape:  torch.Size([2, 3, 600, 300])\n",
      "i:  1\n"
     ]
    },
    {
     "name": "stderr",
     "output_type": "stream",
     "text": [
      " 10%|█         | 2/20 [00:03<00:33,  1.89s/it]"
     ]
    },
    {
     "name": "stdout",
     "output_type": "stream",
     "text": [
      "global_pred_onehot_tensor_list.shape: torch.Size([2, 3, 600, 300])\n",
      "global_pred_propagate_onehot_tensor_rollouts.shape:  torch.Size([2, 3, 600, 300])\n",
      "i:  2\n"
     ]
    },
    {
     "name": "stderr",
     "output_type": "stream",
     "text": [
      " 15%|█▌        | 3/20 [00:06<00:36,  2.12s/it]"
     ]
    },
    {
     "name": "stdout",
     "output_type": "stream",
     "text": [
      "global_pred_onehot_tensor_list.shape: torch.Size([2, 3, 600, 300])\n",
      "global_pred_propagate_onehot_tensor_rollouts.shape:  torch.Size([2, 3, 600, 300])\n",
      "i:  3\n"
     ]
    },
    {
     "name": "stderr",
     "output_type": "stream",
     "text": [
      " 20%|██        | 4/20 [00:09<00:36,  2.29s/it]"
     ]
    },
    {
     "name": "stdout",
     "output_type": "stream",
     "text": [
      "global_pred_onehot_tensor_list.shape: torch.Size([2, 3, 600, 300])\n",
      "global_pred_propagate_onehot_tensor_rollouts.shape:  torch.Size([2, 3, 600, 300])\n",
      "i:  4\n"
     ]
    },
    {
     "name": "stderr",
     "output_type": "stream",
     "text": [
      " 25%|██▌       | 5/20 [00:11<00:35,  2.38s/it]"
     ]
    },
    {
     "name": "stdout",
     "output_type": "stream",
     "text": [
      "global_pred_onehot_tensor_list.shape: torch.Size([2, 3, 600, 300])\n",
      "global_pred_propagate_onehot_tensor_rollouts.shape:  torch.Size([2, 3, 600, 300])\n",
      "i:  5\n"
     ]
    },
    {
     "name": "stderr",
     "output_type": "stream",
     "text": [
      " 30%|███       | 6/20 [00:14<00:34,  2.49s/it]"
     ]
    },
    {
     "name": "stdout",
     "output_type": "stream",
     "text": [
      "global_pred_onehot_tensor_list.shape: torch.Size([2, 3, 600, 300])\n",
      "global_pred_propagate_onehot_tensor_rollouts.shape:  torch.Size([2, 3, 600, 300])\n",
      "i:  6\n"
     ]
    },
    {
     "name": "stderr",
     "output_type": "stream",
     "text": [
      " 35%|███▌      | 7/20 [00:17<00:32,  2.52s/it]"
     ]
    },
    {
     "name": "stdout",
     "output_type": "stream",
     "text": [
      "global_pred_onehot_tensor_list.shape: torch.Size([2, 3, 600, 300])\n",
      "global_pred_propagate_onehot_tensor_rollouts.shape:  torch.Size([2, 3, 600, 300])\n",
      "i:  7\n"
     ]
    },
    {
     "name": "stderr",
     "output_type": "stream",
     "text": [
      " 40%|████      | 8/20 [00:19<00:30,  2.53s/it]"
     ]
    },
    {
     "name": "stdout",
     "output_type": "stream",
     "text": [
      "global_pred_onehot_tensor_list.shape: torch.Size([2, 3, 600, 300])\n",
      "global_pred_propagate_onehot_tensor_rollouts.shape:  torch.Size([2, 3, 600, 300])\n",
      "i:  8\n"
     ]
    },
    {
     "name": "stderr",
     "output_type": "stream",
     "text": [
      " 45%|████▌     | 9/20 [00:22<00:28,  2.58s/it]"
     ]
    },
    {
     "name": "stdout",
     "output_type": "stream",
     "text": [
      "global_pred_onehot_tensor_list.shape: torch.Size([2, 3, 600, 300])\n",
      "global_pred_propagate_onehot_tensor_rollouts.shape:  torch.Size([2, 3, 600, 300])\n",
      "i:  9\n"
     ]
    },
    {
     "name": "stderr",
     "output_type": "stream",
     "text": [
      " 50%|█████     | 10/20 [00:25<00:26,  2.62s/it]"
     ]
    },
    {
     "name": "stdout",
     "output_type": "stream",
     "text": [
      "global_pred_onehot_tensor_list.shape: torch.Size([2, 3, 600, 300])\n",
      "global_pred_propagate_onehot_tensor_rollouts.shape:  torch.Size([2, 3, 600, 300])\n",
      "i:  10\n"
     ]
    },
    {
     "name": "stderr",
     "output_type": "stream",
     "text": [
      " 55%|█████▌    | 11/20 [00:27<00:23,  2.66s/it]"
     ]
    },
    {
     "name": "stdout",
     "output_type": "stream",
     "text": [
      "global_pred_onehot_tensor_list.shape: torch.Size([2, 3, 600, 300])\n",
      "global_pred_propagate_onehot_tensor_rollouts.shape:  torch.Size([2, 3, 600, 300])\n",
      "i:  11\n"
     ]
    },
    {
     "name": "stderr",
     "output_type": "stream",
     "text": [
      " 60%|██████    | 12/20 [00:30<00:21,  2.72s/it]"
     ]
    },
    {
     "name": "stdout",
     "output_type": "stream",
     "text": [
      "global_pred_onehot_tensor_list.shape: torch.Size([2, 3, 600, 300])\n",
      "global_pred_propagate_onehot_tensor_rollouts.shape:  torch.Size([2, 3, 600, 300])\n",
      "i:  12\n"
     ]
    },
    {
     "name": "stderr",
     "output_type": "stream",
     "text": [
      " 65%|██████▌   | 13/20 [00:33<00:19,  2.72s/it]"
     ]
    },
    {
     "name": "stdout",
     "output_type": "stream",
     "text": [
      "global_pred_onehot_tensor_list.shape: torch.Size([2, 3, 600, 300])\n",
      "global_pred_propagate_onehot_tensor_rollouts.shape:  torch.Size([2, 3, 600, 300])\n",
      "i:  13\n"
     ]
    },
    {
     "name": "stderr",
     "output_type": "stream",
     "text": [
      " 70%|███████   | 14/20 [00:36<00:16,  2.71s/it]"
     ]
    },
    {
     "name": "stdout",
     "output_type": "stream",
     "text": [
      "global_pred_onehot_tensor_list.shape: torch.Size([2, 3, 600, 300])\n",
      "global_pred_propagate_onehot_tensor_rollouts.shape:  torch.Size([2, 3, 600, 300])\n",
      "i:  14\n"
     ]
    },
    {
     "name": "stderr",
     "output_type": "stream",
     "text": [
      " 75%|███████▌  | 15/20 [00:38<00:13,  2.71s/it]"
     ]
    },
    {
     "name": "stdout",
     "output_type": "stream",
     "text": [
      "global_pred_onehot_tensor_list.shape: torch.Size([2, 3, 600, 300])\n",
      "global_pred_propagate_onehot_tensor_rollouts.shape:  torch.Size([2, 3, 600, 300])\n",
      "i:  15\n"
     ]
    },
    {
     "name": "stderr",
     "output_type": "stream",
     "text": [
      " 80%|████████  | 16/20 [00:41<00:10,  2.71s/it]"
     ]
    },
    {
     "name": "stdout",
     "output_type": "stream",
     "text": [
      "global_pred_onehot_tensor_list.shape: torch.Size([2, 3, 600, 300])\n",
      "global_pred_propagate_onehot_tensor_rollouts.shape:  torch.Size([2, 3, 600, 300])\n",
      "i:  16\n"
     ]
    },
    {
     "name": "stderr",
     "output_type": "stream",
     "text": [
      " 85%|████████▌ | 17/20 [00:44<00:08,  2.75s/it]"
     ]
    },
    {
     "name": "stdout",
     "output_type": "stream",
     "text": [
      "global_pred_onehot_tensor_list.shape: torch.Size([2, 3, 600, 300])\n",
      "global_pred_propagate_onehot_tensor_rollouts.shape:  torch.Size([2, 3, 600, 300])\n",
      "i:  17\n"
     ]
    },
    {
     "name": "stderr",
     "output_type": "stream",
     "text": [
      " 90%|█████████ | 18/20 [00:47<00:05,  2.73s/it]"
     ]
    },
    {
     "name": "stdout",
     "output_type": "stream",
     "text": [
      "global_pred_onehot_tensor_list.shape: torch.Size([2, 3, 600, 300])\n",
      "global_pred_propagate_onehot_tensor_rollouts.shape:  torch.Size([2, 3, 600, 300])\n",
      "i:  18\n"
     ]
    },
    {
     "name": "stderr",
     "output_type": "stream",
     "text": [
      " 95%|█████████▌| 19/20 [00:49<00:02,  2.73s/it]"
     ]
    },
    {
     "name": "stdout",
     "output_type": "stream",
     "text": [
      "global_pred_onehot_tensor_list.shape: torch.Size([2, 3, 600, 300])\n",
      "global_pred_propagate_onehot_tensor_rollouts.shape:  torch.Size([2, 3, 600, 300])\n",
      "i:  19\n"
     ]
    },
    {
     "name": "stderr",
     "output_type": "stream",
     "text": [
      "100%|██████████| 20/20 [00:52<00:00,  2.63s/it]\n"
     ]
    }
   ],
   "source": [
    "# Intialize transform \n",
    "local_transform = Compose([\n",
    "            Resize((256, 256), interpolation= PIL.Image.NEAREST),\n",
    "            ToTensor()\n",
    "        ])\n",
    "\n",
    "global_transform = Compose([\n",
    "            ToTensor(),\n",
    "        ]) # do not do any resizing\n",
    "\n",
    "# Initialize metric function \n",
    "iou_metric = JaccardIndex(task=\"multiclass\", num_classes=3, reduction=\"none\")\n",
    "from torchmetrics.image import StructuralSimilarityIndexMeasure\n",
    "ssim_metric = StructuralSimilarityIndexMeasure(data_range=1.0, reduction=\"none\")\n",
    "\n",
    "\n",
    "# Initialize metric lists for visualization \n",
    "iou_metric_obs_list = []\n",
    "iou_metric_pred_list = []\n",
    "iou_metric_pred_multi_list = []\n",
    "iou_metric_pred_propagated_list = [] \n",
    "ssim_metric_obs_list = [] \n",
    "ssim_metric_pred_list = []\n",
    "ssim_metric_pred_multi_list = []\n",
    "ssim_metric_pred_propagated_list = []\n",
    "\n",
    "\n",
    "# Initialize global maps for accumulation\n",
    "init_value = 2 # init as free space\n",
    "\n",
    "## Global map observed\n",
    "global_map_obs = np.ones_like(map) * init_value \n",
    "global_obs_onehot_tensor = dutils.convert_maputils_labelmaps_to_model_input_format(global_map_obs, global_transform)\n",
    "\n",
    "## Global map predicted\n",
    "global_map_pred = np.ones_like(map) * init_value \n",
    "global_pred_onehot_tensor = dutils.convert_maputils_labelmaps_to_model_input_format(global_map_pred, global_transform)\n",
    "\n",
    "## Global map predicted multi-patches \n",
    "global_map_pred_multi = np.ones_like(map) * init_value\n",
    "global_pred_multi_onehot_tensor = dutils.convert_maputils_labelmaps_to_model_input_format(global_map_pred_multi, global_transform)\n",
    "\n",
    "## Global map predicted propagated\n",
    "global_map_pred_propagated = np.ones_like(map) * init_value\n",
    "global_pred_propagated_onehot_tensor = dutils.convert_maputils_labelmaps_to_model_input_format(global_map_pred_propagated, global_transform)\n",
    "\n",
    "\n",
    "\n",
    "## Collect metrics over trajectory\n",
    "for i in tqdm(range(len(mask_list))):\n",
    "    # Get local observed map\n",
    "    local_observed_map = 1-local_mask_list[i]\n",
    "    global_observed_map = 1-mask_list[i]\n",
    "\n",
    "    # Get local predicted map    \n",
    "    local_input_onehot_tensor = dutils.convert_maputils_labelmaps_to_model_input_format(local_observed_map, local_transform)\n",
    "    local_pred_mean_onehot, local_pred_ensemble_onehot = dutils.run_map_predictor(local_input_onehot_tensor, device, models_dict)\n",
    "\n",
    "\n",
    "    # Get local GT map (for visualization)\n",
    "    local_gt_map = 1-local_gt_list[i]\n",
    "    local_gt_onehot_tensor = dutils.convert_maputils_labelmaps_to_model_input_format(local_gt_map, local_transform)\n",
    "\n",
    "    # Get global GT map (for visualization)\n",
    "    global_map_gt = map \n",
    "    global_gt_onehot_tensor = dutils.convert_maputils_labelmaps_to_model_input_format(global_map_gt, global_transform)\n",
    "\n",
    "    # Accumulate global observed map\n",
    "    local_map_center_in_global = pose_list[i]\n",
    "    \n",
    "    # # Update global observed map with newest global observed map \n",
    "    global_obs_onehot_tensor = dutils.convert_maputils_labelmaps_to_model_input_format(global_observed_map, global_transform)\n",
    "    # For metrics, get observed map where unobserved is free space \n",
    "    global_obs_freespace_tensor = dutils.change_onehot_unobserved_to_free(global_obs_onehot_tensor)\n",
    "    # print(\"global_obs_onehot_tensor.shape: \", global_obs_onehot_tensor.shape)\n",
    "    # print(\"global_observed_map.shape: \", global_observed_map.shape)\n",
    "    # plt.imshow(global_observed_map)\n",
    "    # plt.colorbar()\n",
    "    # plt.show()\n",
    "    # # Update global predicted map with local predicted map\n",
    "    global_pred_onehot_tensor = dutils.update_global_map_with_local(global_pred_onehot_tensor, local_pred_mean_onehot, \n",
    "                                 robot_pose=local_map_center_in_global, local_map_size=map_configs['local_map_size']*multiplier)\n",
    "\n",
    "    # # Update global predicted multi map with multi-patch inference\n",
    "    stride_m = 10 # TODO: move up to config, should have seperate prediction config \n",
    "    global_pred_multi_onehot_tensor = glocal.calculate_global_pred_with_glocal_inference(global_obs_onehot_tensor,\n",
    "                                                    global_pred_multi_onehot_tensor, \n",
    "                                                    map_configs, multiplier, \n",
    "                                                    stride_m, models_dict, \n",
    "                                                    device, show_viz=False)\n",
    "    \n",
    "    # # Get patch distance transform \n",
    "    known_threshold = 0.3 # TODO: move up to config, should have seperate prediction config \n",
    "    global_pred_propagate_onehot_tensor_rollouts = glocal.calculate_rollouts_global_map_prediction(models_dict, device, global_obs_onehot_tensor, map_configs, multiplier, stride_m, known_threshold, show_viz=False)\n",
    "    print(\"global_pred_propagate_onehot_tensor_rollouts.shape: \", global_pred_propagate_onehot_tensor_rollouts.shape)\n",
    "    global_pred_propagate_onehot_tensor_mean = torch.mean(global_pred_propagate_onehot_tensor_rollouts, dim=0).unsqueeze(0)\n",
    "\n",
    "    # Get the variance \n",
    "    var_class = 1\n",
    "    variance_global_pred_propagate_onehot_tensor = torch.var(global_pred_propagate_onehot_tensor_rollouts[:,var_class,:,:], dim=0)\n",
    "\n",
    "    \n",
    "    # # Calculate metrics\n",
    "    ssim_metric_obs = dutils.get_ssim(ssim_metric, global_obs_freespace_tensor, global_gt_onehot_tensor)\n",
    "    ssim_metric_obs_list.append(ssim_metric_obs)\n",
    "\n",
    "    global_pred_freespace_tensor = dutils.change_onehot_unobserved_to_free(global_pred_onehot_tensor)\n",
    "    ssim_metric_pred = dutils.get_ssim(ssim_metric, global_pred_freespace_tensor, global_gt_onehot_tensor)\n",
    "    ssim_metric_pred_list.append(ssim_metric_pred)\n",
    "\n",
    "    global_pred_multi_freespace_tensor = dutils.change_onehot_unobserved_to_free(global_pred_multi_onehot_tensor)\n",
    "    ssim_metric_pred_multi = dutils.get_ssim(ssim_metric, global_pred_multi_freespace_tensor, global_gt_onehot_tensor)\n",
    "    ssim_metric_pred_multi_list.append(ssim_metric_pred_multi)\n",
    "\n",
    "    global_pred_propagated_freespace_tensor = dutils.change_onehot_unobserved_to_free(global_pred_propagate_onehot_tensor_mean)\n",
    "    ssim_metric_pred_propagated = dutils.get_ssim(ssim_metric, global_pred_propagated_freespace_tensor, global_gt_onehot_tensor)\n",
    "    ssim_metric_pred_propagated_list.append(ssim_metric_pred_propagated)\n",
    "\n",
    "\n",
    "    iou_metric_obs = dutils.get_freq_iou(iou_metric, global_obs_freespace_tensor, global_gt_onehot_tensor)\n",
    "    iou_metric_obs_list.append(iou_metric_obs)\n",
    "\n",
    "    iou_metric_pred = dutils.get_freq_iou(iou_metric, global_pred_freespace_tensor, global_gt_onehot_tensor)\n",
    "    # print(\"iou_metric_pred: \", iou_metric_pred)\n",
    "    iou_metric_pred_list.append(iou_metric_pred)\n",
    "\n",
    "    iou_metric_pred_multi = dutils.get_freq_iou(iou_metric, global_pred_multi_freespace_tensor, global_gt_onehot_tensor)\n",
    "    # print(\"iou_metric_pred_multi: \", iou_metric_pred_multi)\n",
    "    iou_metric_pred_multi_list.append(iou_metric_pred_multi)\n",
    "\n",
    "    iou_metric_pred_propagated = dutils.get_freq_iou(iou_metric, global_pred_propagated_freespace_tensor, global_gt_onehot_tensor)\n",
    "    # print(\"iou_metric_pred_propagated: \", iou_metric_pred_propagated)\n",
    "    iou_metric_pred_propagated_list.append(iou_metric_pred_propagated)\n",
    "\n",
    "    # Converting one hot tensors to colorized and then visualize \n",
    "    plt_row = 3\n",
    "    plt_col = 4\n",
    "\n",
    "    plot_num_global_gt = 1\n",
    "    plot_num_local_input = 2\n",
    "    plot_num_local_pred = 3\n",
    "    plot_num_metrics = 4\n",
    "    plot_num_global_obs = 5\n",
    "    plot_num_global_pred = 6\n",
    "    plot_num_global_pred_multi = 7\n",
    "    plot_num_global_pred_propagated = 8\n",
    "    plot_num_prop_pred_1 = 9 \n",
    "    plot_num_prop_pred_2 = 10\n",
    "    plot_num_prop_var = 11\n",
    "    plot_num_prop_var_subsampled = 12\n",
    "\n",
    "    plt.figure(figsize=(20,12), facecolor=(1,1,1))\n",
    "\n",
    "    plt.subplot(plt_row,plt_col,plot_num_global_gt)\n",
    "    colorized_gt_global = vutils.get_colorized_map(global_gt_onehot_tensor)\n",
    "    plt.imshow(colorized_gt_global.permute(1,2,0).squeeze().detach().cpu().numpy()) \n",
    "    x_pose = pose_list[i,0]\n",
    "    y_pose = pose_list[i,1]\n",
    "    \n",
    "    plt.scatter(y_pose, x_pose,c='r',marker='x', s=100) # robot pose \n",
    "    plt.plot(pose_list[:i+1,1], pose_list[:i+1,0],'r.') # robot past traj \n",
    "    local_map_size_multiplied = map_configs['local_map_size'] * multiplier\n",
    "    rect = patches.Rectangle((y_pose - (local_map_size_multiplied/2), x_pose - (local_map_size_multiplied/2)), local_map_size_multiplied, local_map_size_multiplied, \n",
    "                             linewidth=2, edgecolor='r', facecolor='none')\n",
    "    plt.gca().add_patch(rect)\n",
    "    # make a rectangle\n",
    "    plt.title(\"Global map gt\")\n",
    "\n",
    "\n",
    "    plt.subplot(plt_row,plt_col,plot_num_local_input)\n",
    "    # plt.imshow(local_observed_map)\n",
    "    colorized_input = vutils.get_colorized_map(local_input_onehot_tensor)\n",
    "    colorized_input_permuted = colorized_input.permute(1,2,0).squeeze().detach().cpu().numpy()\n",
    "    plt.imshow(colorized_input_permuted)\n",
    "    plt.scatter(colorized_input_permuted.shape[1]//2, colorized_input_permuted.shape[0]//2,c='r', s=10) # robot pose\n",
    "    plt.title(\"Local map input\")\n",
    "\n",
    "    plt.subplot(plt_row,plt_col,plot_num_local_pred)\n",
    "    colorized_mean = vutils.get_colorized_map(local_pred_mean_onehot)\n",
    "    plt.imshow(colorized_mean.permute(1,2,0).squeeze().detach().cpu().numpy())\n",
    "    plt.scatter(colorized_input_permuted.shape[1]//2, colorized_input_permuted.shape[0]//2,c='r', s=10) # robot pose\n",
    "    plt.title(\"Local map predicted\")\n",
    "\n",
    "    # plt.subplot(plt_row,plt_col,3)\n",
    "    # colorized_gt = vutils.get_colorized_map(local_gt_onehot_tensor)\n",
    "    # plt.imshow(colorized_gt.permute(1,2,0).squeeze().detach().cpu().numpy())\n",
    "    # plt.scatter(colorized_input_permuted.shape[1]//2, colorized_input_permuted.shape[0]//2,c='r', s=10) # robot pose\n",
    "    # plt.title(\"Local map GT\")\n",
    "\n",
    "    plt.subplot(plt_row,plt_col,plot_num_global_obs)\n",
    "    colorized_obs_global = vutils.get_colorized_map(global_obs_freespace_tensor)\n",
    "    plt.imshow(colorized_obs_global.permute(1,2,0).squeeze().detach().cpu().numpy())\n",
    "    plt.title(\"No Map Prediction\")\n",
    "\n",
    "    plt.subplot(plt_row,plt_col,plot_num_global_pred)\n",
    "    colorized_pred_global = vutils.get_colorized_map(global_pred_freespace_tensor)\n",
    "    plt.imshow(colorized_pred_global.permute(1,2,0).squeeze().detach().cpu().numpy())\n",
    "    plt.title(\"Only Local Prediction\")\n",
    "\n",
    "    plt.subplot(plt_row,plt_col,plot_num_global_pred_multi)\n",
    "    colorized_pred_global_mult = vutils.get_colorized_map(global_pred_multi_freespace_tensor)\n",
    "    plt.imshow(colorized_pred_global_mult.permute(1,2,0).squeeze().detach().cpu().numpy())\n",
    "    plt.title(\"GLocal: No Propagation\")\n",
    "\n",
    "    plt.subplot(plt_row,plt_col,plot_num_global_pred_propagated)\n",
    "    colorized_pred_global_propagated = vutils.get_colorized_map(global_pred_propagated_freespace_tensor)\n",
    "    plt.imshow(colorized_pred_global_propagated.permute(1,2,0).squeeze().detach().cpu().numpy())\n",
    "    plt.title(\"GLocal: With Propagation\")\n",
    "\n",
    "\n",
    "\n",
    "\n",
    "\n",
    "    ## Metrics \n",
    "    plt.subplot(plt_row,plt_col,plot_num_metrics)\n",
    "    # plt.plot(iou_metric_obs_list, label=\"No Pred.\")\n",
    "    # plt.plot(iou_metric_pred_list, label=\"Local Pred.\")\n",
    "    # plt.plot(iou_metric_pred_multi_list, label=\"GLocal: No Prop.\")\n",
    "    # plt.plot(iou_metric_pred_propagated_list, label=\"GLocal: With Prop.\")\n",
    "    # plt.title(\"Freq-weighted IOU metric\")\n",
    "\n",
    "    plt.plot(ssim_metric_obs_list, label=\"No Pred. (SSIM)\")\n",
    "    plt.plot(ssim_metric_pred_list, label=\"Local Pred. (SSIM)\")\n",
    "    plt.plot(ssim_metric_pred_multi_list, label=\"GLocal: No Prop. (SSIM)\")\n",
    "    plt.plot(ssim_metric_pred_propagated_list, label=\"GLocal: With Prop. (SSIM)\") \n",
    "    plt.title(\"SSIM metric\")\n",
    "    plt.xlim(0, len(mask_list))\n",
    "    plt.ylim(0, 1)\n",
    "    plt.legend()\n",
    "    \n",
    "    # # Plot variance of multiple propagataion \n",
    "    plt.subplot(plt_row,plt_col,plot_num_prop_pred_1)\n",
    "    colorized_pred_global_propagated = vutils.get_colorized_map(global_pred_propagate_onehot_tensor_rollouts[0].unsqueeze(0))\n",
    "    plt.imshow(colorized_pred_global_propagated.permute(1,2,0).squeeze().detach().cpu().numpy())\n",
    "    plt.title(\"GLocal: Prop. 1\")\n",
    "\n",
    "    plt.subplot(plt_row,plt_col,plot_num_prop_pred_2)\n",
    "    colorized_pred_global_propagated = vutils.get_colorized_map(global_pred_propagate_onehot_tensor_rollouts[1].unsqueeze(0))\n",
    "    plt.imshow(colorized_pred_global_propagated.permute(1,2,0).squeeze().detach().cpu().numpy())\n",
    "    plt.title(\"GLocal: Prop. 2\")\n",
    "    \n",
    "\n",
    "    plt.subplot(plt_row, plt_col, plot_num_prop_var)\n",
    "    plt.imshow(variance_global_pred_propagate_onehot_tensor,vmin=0, vmax=1)\n",
    "    plt.title(\"variance of class {}\".format(var_class))\n",
    "    plt.colorbar()\n",
    "\n",
    "    subsampling_freq = 50\n",
    "\n",
    "    subsampled = np.zeros((int(variance_global_pred_propagate_onehot_tensor.shape[0]/subsampling_freq), int(variance_global_pred_propagate_onehot_tensor.shape[1]/subsampling_freq)))\n",
    "    for sub_i in range(int(variance_global_pred_propagate_onehot_tensor.shape[0]/subsampling_freq)):\n",
    "        for sub_j in range(int(variance_global_pred_propagate_onehot_tensor.shape[1]/subsampling_freq)):\n",
    "            query_patch = variance_global_pred_propagate_onehot_tensor[sub_i*subsampling_freq:(sub_i+1)*subsampling_freq,sub_j*subsampling_freq:(sub_j+1)*subsampling_freq]\n",
    "            subsampled[sub_i,sub_j] = torch.sum(query_patch)\n",
    "    plt.subplot(plt_row, plt_col, plot_num_prop_var_subsampled)\n",
    "    plt.imshow(subsampled, vmin=0, vmax = 500)\n",
    "    plt.title(\"subsampled\")\n",
    "    plt.colorbar()\n",
    "    print(\"i: \", i)\n",
    "    plt.savefig(\"outputs/plot_{:04d}.png\".format(i))\n",
    "    plt.close()\n"
   ]
  },
  {
   "cell_type": "code",
   "execution_count": 26,
   "metadata": {},
   "outputs": [
    {
     "data": {
      "text/plain": [
       "tensor(0.0139)"
      ]
     },
     "execution_count": 26,
     "metadata": {},
     "output_type": "execute_result"
    }
   ],
   "source": [
    "ssim_metric_obs = ssim_metric(torch.argmax(global_obs_onehot_tensor, dim=1).float().unsqueeze(1), target_tensor_argmax.float().unsqueeze(1))\n",
    "# torch.argmax(global_gt_onehot_tensor, dim=1).shape\n",
    "# target_tensor_argmax.shape\n",
    "ssim_metric_obs"
   ]
  },
  {
   "attachments": {},
   "cell_type": "markdown",
   "metadata": {},
   "source": [
    "##  Get and visualize local patches\n",
    "We want a figure where \n",
    "* on the left, we show global map with rectangles around the frames\n",
    "* on the right, we show the patches and then maybe underneath the associated predictions"
   ]
  },
  {
   "cell_type": "code",
   "execution_count": null,
   "metadata": {},
   "outputs": [],
   "source": [
    "# # Get global GT map (for visualization)\n",
    "# i = 0\n",
    "# global_map_gt = map \n",
    "# global_gt_onehot_tensor = dutils.convert_maputils_labelmaps_to_model_input_format(global_map_gt, global_transform)\n",
    "\n",
    "# x_pose = pose_list[i,0]\n",
    "# y_pose = pose_list[i,1]\n",
    "\n",
    "# plt.scatter(y_pose, x_pose,c='r',marker='x', s=100) # robot pose \n",
    "# plt.plot(pose_list[:i+1,1], pose_list[:i+1,0],'r.') # robot past traj \n",
    "# local_map_size_multiplied = map_configs['local_map_size'] * multiplier\n",
    "# # rect = patches.Rectangle((y_pose - (local_map_size_multiplied/2), x_pose - (local_map_size_multiplied/2)), local_map_size_multiplied, local_map_size_multiplied, \n",
    "# #                             linewidth=3, edgecolor='r', facecolor='none')\n",
    "# # plt.gca().add_patch(rect)\n",
    "\n",
    "# colorized_obs_global = vutils.get_colorized_map(global_obs_onehot_tensor)\n",
    "# plt.imshow(colorized_obs_global.permute(1,2,0).squeeze().detach().cpu().numpy()) \n",
    "# plt.title(\"Global Obs map\")\n",
    "\n",
    "\n",
    "# # Given the global map shape and stride, get list of patch centers\n",
    "# stride = [10 * multiplier, 10* multiplier] \n",
    "# patch_shape = [map_configs['local_map_size'] * multiplier, map_configs['local_map_size'] * multiplier]\n",
    "# patch_centers = dutils.get_patch_centers(global_map_gt.shape, patch_shape, stride)\n",
    "# print(\"Number of patches: \", len(patch_centers))\n",
    "# # print(\"Patch centers: \", patch_centers)\n",
    "\n",
    "# # Visualize the patch centers\n",
    "# plt.scatter(patch_centers[:,1], patch_centers[:,0], c='b', marker='x', s=100) # patch centers\n",
    "# for patch_center in patch_centers:\n",
    "#     rect = patches.Rectangle((patch_center[1] - (local_map_size_multiplied/2), patch_center[0] - (local_map_size_multiplied/2)), local_map_size_multiplied, local_map_size_multiplied, \n",
    "#                             linewidth=3, edgecolor=vutils.generate_random_color(), facecolor='none')\n",
    "#     plt.gca().add_patch(rect)\n",
    "\n",
    "# plt.show()\n",
    "\n",
    "\n",
    "\n",
    "\n",
    "\n",
    "\n",
    "\n"
   ]
  },
  {
   "attachments": {},
   "cell_type": "markdown",
   "metadata": {},
   "source": [
    "## Get patches from global map given the patch centers\n"
   ]
  },
  {
   "cell_type": "code",
   "execution_count": null,
   "metadata": {},
   "outputs": [],
   "source": [
    "# stride_m = 10 # meters\n",
    "# global_pred_onehot_tensor = glocal.calculate_global_pred_with_glocal_inference(global_obs_onehot_tensor,\n",
    "#                                                    global_pred_onehot_tensor, \n",
    "#                                                    map_configs, multiplier, \n",
    "#                                                    stride_m, models_dict, \n",
    "#                                                    device, show_viz=True)"
   ]
  },
  {
   "attachments": {},
   "cell_type": "markdown",
   "metadata": {},
   "source": [
    "## Prototype Iterative Map Prediction"
   ]
  },
  {
   "cell_type": "code",
   "execution_count": 52,
   "metadata": {},
   "outputs": [
    {
     "data": {
      "text/plain": [
       "tensor([[[[0., 0., 0.,  ..., 0., 0., 0.],\n",
       "          [0., 0., 0.,  ..., 0., 0., 0.],\n",
       "          [0., 0., 0.,  ..., 0., 0., 0.],\n",
       "          ...,\n",
       "          [0., 0., 0.,  ..., 0., 0., 0.],\n",
       "          [0., 0., 0.,  ..., 0., 0., 0.],\n",
       "          [0., 0., 0.,  ..., 0., 0., 0.]],\n",
       "\n",
       "         [[0., 0., 0.,  ..., 0., 0., 0.],\n",
       "          [0., 0., 0.,  ..., 0., 0., 0.],\n",
       "          [0., 0., 0.,  ..., 0., 0., 0.],\n",
       "          ...,\n",
       "          [0., 0., 0.,  ..., 0., 0., 0.],\n",
       "          [0., 0., 0.,  ..., 0., 0., 0.],\n",
       "          [0., 0., 0.,  ..., 0., 0., 0.]],\n",
       "\n",
       "         [[1., 1., 1.,  ..., 1., 1., 1.],\n",
       "          [1., 1., 1.,  ..., 1., 1., 1.],\n",
       "          [1., 1., 1.,  ..., 1., 1., 1.],\n",
       "          ...,\n",
       "          [1., 1., 1.,  ..., 1., 1., 1.],\n",
       "          [1., 1., 1.,  ..., 1., 1., 1.],\n",
       "          [1., 1., 1.,  ..., 1., 1., 1.]]]])"
      ]
     },
     "execution_count": 52,
     "metadata": {},
     "output_type": "execute_result"
    }
   ],
   "source": [
    "dutils.change_onehot_unobserved_to_free(global_obs_onehot_tensor)"
   ]
  },
  {
   "cell_type": "code",
   "execution_count": null,
   "metadata": {},
   "outputs": [],
   "source": []
  },
  {
   "cell_type": "code",
   "execution_count": null,
   "metadata": {},
   "outputs": [],
   "source": []
  },
  {
   "cell_type": "code",
   "execution_count": null,
   "metadata": {},
   "outputs": [],
   "source": [
    "variance_global_pred_propagate_onehot_tensor.shape\n"
   ]
  },
  {
   "cell_type": "code",
   "execution_count": null,
   "metadata": {},
   "outputs": [],
   "source": [
    "global_obs_onehot_tensor.shape"
   ]
  },
  {
   "cell_type": "code",
   "execution_count": null,
   "metadata": {},
   "outputs": [],
   "source": []
  }
 ],
 "metadata": {
  "kernelspec": {
   "display_name": "map_pred",
   "language": "python",
   "name": "python3"
  },
  "language_info": {
   "codemirror_mode": {
    "name": "ipython",
    "version": 3
   },
   "file_extension": ".py",
   "mimetype": "text/x-python",
   "name": "python",
   "nbconvert_exporter": "python",
   "pygments_lexer": "ipython3",
   "version": "3.6.11"
  },
  "orig_nbformat": 4,
  "vscode": {
   "interpreter": {
    "hash": "85f389138e2ef9a10ae90a13a7022fc709fb836248c0afbb2cd1456d820047f4"
   }
  }
 },
 "nbformat": 4,
 "nbformat_minor": 2
}
